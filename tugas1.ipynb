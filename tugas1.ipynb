{
 "cells": [
  {
   "cell_type": "code",
   "execution_count": 1,
   "metadata": {},
   "outputs": [],
   "source": [
    "import numpy as np"
   ]
  },
  {
   "cell_type": "code",
   "execution_count": 2,
   "metadata": {},
   "outputs": [
    {
     "data": {
      "text/plain": [
       "28"
      ]
     },
     "execution_count": 2,
     "metadata": {},
     "output_type": "execute_result"
    }
   ],
   "source": [
    "#input sekuen\n",
    "\n",
    "sekuen='qwertyAUGasdfghjklUAGzxcvbnm'\n",
    "sekuens='qwertyAUGasdAUUjklAUAAzxcvbnmUGAUGAqwertyUGA'\n",
    "len(sekuen)"
   ]
  },
  {
   "cell_type": "code",
   "execution_count": 4,
   "metadata": {},
   "outputs": [],
   "source": [
    "#mengkodekan asam amino dari coding region\n",
    "def asam_amino(coding_region):\n",
    "    untai_asam_amino=[]\n",
    "    for k in range(0, len(coding_region), 3):\n",
    "        match coding_region[k:k+3]: \n",
    "            case 'AUG':\n",
    "                untai_asam_amino.append('M') #Methionine\n",
    "            case 'AUU' | 'AUC' | 'AUA':\n",
    "                untai_asam_amino.append('I') #Isoleucine\n",
    "            case 'ACU' | 'ACC' | 'ACA' | 'ACG':\n",
    "                untai_asam_amino.append('T') #Threonine\n",
    "            case 'AAU' | 'AAC':\n",
    "                untai_asam_amino.append('N') #Asparagine\n",
    "            case 'AAA' | 'AAG':\n",
    "                untai_asam_amino.append('K') #Lysine\n",
    "            case 'AGU' | 'AGC' | 'UCU' | 'UCC' | 'UCA' | 'UCG':\n",
    "                untai_asam_amino.append('S') #Serine\n",
    "            case 'AGA' | 'AGG' | 'CGU' | 'CGC' | 'CGA' | 'CGG':\n",
    "                untai_asam_amino.append('R') #Arginine\n",
    "            case 'GUU' | 'GUC' | 'GUA' | 'GUG':\n",
    "                untai_asam_amino.append('V') #Valine\n",
    "            case 'GCU' | 'GCC' | 'GCA' | 'GCG':\n",
    "                untai_asam_amino.append('A') #Alanine\n",
    "            case 'GAU' | 'GAC' | 'GAA' | 'GAG':\n",
    "                untai_asam_amino.append('D') #Aspartic Acid\n",
    "            case 'GGU' | 'GGC' | 'GGA' | 'GGG':\n",
    "                untai_asam_amino.append('G') #Glycine\n",
    "            case 'CUU' | 'CUC' | 'CUA' | 'CUG' | 'UUA' | 'UUG':\n",
    "                untai_asam_amino.append('L') #Leucine\n",
    "            case 'CCU' | 'CCC' | 'CCA' | 'CCG':\n",
    "                untai_asam_amino.append('P') #Proline\n",
    "            case 'CAU' | 'CAC':\n",
    "                untai_asam_amino.append('H') #Histidine\n",
    "            case 'CAA' | 'CAG':\n",
    "                untai_asam_amino.append('Q') #Glutamine\n",
    "            case 'UUU' | 'UUC':\n",
    "                untai_asam_amino.append('F') #Phenylalanin\n",
    "            case 'UAU' | 'UAC':\n",
    "                untai_asam_amino.append('Y') #Tyrosine\n",
    "            case 'UGU' | 'UGC':\n",
    "                untai_asam_amino.append('C') #Cysteine\n",
    "            case 'UGG':\n",
    "                untai_asam_amino.append('W') #Tryptophan\n",
    "            case 'UAA' | 'UAG' | 'UGA':\n",
    "                untai_asam_amino.append('-') #stop codon\n",
    "        \n",
    "    return ''.join(untai_asam_amino)"
   ]
  },
  {
   "cell_type": "code",
   "execution_count": 5,
   "metadata": {},
   "outputs": [],
   "source": [
    "#menentukan coding region\n",
    "def five_utr(sekuen):\n",
    "\n",
    "    #menemukan kodon start AUG setelah 5'UTR\n",
    "    for i in range(len(sekuen)-2):\n",
    "        if sekuen[i:i+3] == 'AUG':\n",
    "            five_utr_region = sekuen[:i]\n",
    "            coding_region = sekuen[i:]\n",
    "            break\n",
    "        else:\n",
    "            i += 1\n",
    "\n",
    "    #menemukan kodon stop UAA, UAG, UGA sebelum 3'UTR\n",
    "    stop_codon = ['UAA', 'UAG', 'UGA']\n",
    "    for j in range(len(coding_region)):\n",
    "        if coding_region[j:j+3] in stop_codon:\n",
    "            three_utr_region = coding_region[j-3:]\n",
    "            coding_region = coding_region[0:j+3]\n",
    "            break\n",
    "        else:\n",
    "            i += 1\n",
    "\n",
    "    return five_utr_region, asam_amino(coding_region), three_utr_region"
   ]
  },
  {
   "cell_type": "code",
   "execution_count": 6,
   "metadata": {},
   "outputs": [
    {
     "data": {
      "text/plain": [
       "('qwerty',\n",
       " ['Methionine', 'Isoleucine', 'Isoleucine'],\n",
       " 'klAUAAzxcvbnmUGAUGAqwertyUGA')"
      ]
     },
     "execution_count": 6,
     "metadata": {},
     "output_type": "execute_result"
    }
   ],
   "source": [
    "five_utr(sekuens)"
   ]
  }
 ],
 "metadata": {
  "kernelspec": {
   "display_name": "Python 3",
   "language": "python",
   "name": "python3"
  },
  "language_info": {
   "codemirror_mode": {
    "name": "ipython",
    "version": 3
   },
   "file_extension": ".py",
   "mimetype": "text/x-python",
   "name": "python",
   "nbconvert_exporter": "python",
   "pygments_lexer": "ipython3",
   "version": "3.11.1"
  }
 },
 "nbformat": 4,
 "nbformat_minor": 2
}
